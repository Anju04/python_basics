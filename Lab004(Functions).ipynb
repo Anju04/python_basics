{
 "cells": [
  {
   "cell_type": "markdown",
   "id": "1737697e",
   "metadata": {},
   "source": [
    "# Lab4 (functions)\n",
    "##### 16 july 2021\n",
    "##### funcions, list using split"
   ]
  },
  {
   "cell_type": "code",
   "execution_count": 1,
   "id": "85bb49e9",
   "metadata": {},
   "outputs": [
    {
     "name": "stdout",
     "output_type": "stream",
     "text": [
      "Hello anju\n"
     ]
    }
   ],
   "source": [
    "def say_hello(name='User'):\n",
    "    print('Hello '+name)\n",
    "say_hello('anju')"
   ]
  },
  {
   "cell_type": "code",
   "execution_count": 2,
   "id": "99b1e4ca",
   "metadata": {},
   "outputs": [
    {
     "name": "stdout",
     "output_type": "stream",
     "text": [
      "hello\n",
      "Help on function hello in module __main__:\n",
      "\n",
      "hello()\n",
      "    About hello funciton:\n",
      "    Input: Take no input\n",
      "    Output: print hello\n",
      "\n"
     ]
    }
   ],
   "source": [
    "def hello():\n",
    "    ''' About hello funciton:\n",
    "    Input: Take no input\n",
    "    Output: print hello'''\n",
    "    print(\"hello\")\n",
    "hello()\n",
    "help(hello)"
   ]
  },
  {
   "cell_type": "code",
   "execution_count": 3,
   "id": "42b545f9",
   "metadata": {},
   "outputs": [
    {
     "data": {
      "text/plain": [
       "'Hello anju'"
      ]
     },
     "execution_count": 3,
     "metadata": {},
     "output_type": "execute_result"
    }
   ],
   "source": [
    "def say_hello(name=\"user\"):\n",
    "    return (\"Hello \"+name)\n",
    "say_hello('anju')"
   ]
  },
  {
   "cell_type": "code",
   "execution_count": 4,
   "id": "b8b2d981",
   "metadata": {},
   "outputs": [
    {
     "data": {
      "text/plain": [
       "True"
      ]
     },
     "execution_count": 4,
     "metadata": {},
     "output_type": "execute_result"
    }
   ],
   "source": [
    "def seekace_check(mystring):\n",
    "    if 'seekace' in mystring.lower():\n",
    "        return True\n",
    "    else:\n",
    "        return False\n",
    "seekace_check('i am a Seekace intern')"
   ]
  },
  {
   "cell_type": "code",
   "execution_count": 5,
   "id": "14055f2e",
   "metadata": {},
   "outputs": [
    {
     "data": {
      "text/plain": [
       "True"
      ]
     },
     "execution_count": 5,
     "metadata": {},
     "output_type": "execute_result"
    }
   ],
   "source": [
    "def seekace_check(mystring):\n",
    "    return 'seekace' in mystring.lower()\n",
    "seekace_check('i am an intern at SeekAce')"
   ]
  },
  {
   "cell_type": "code",
   "execution_count": 6,
   "id": "4f3fdf0d",
   "metadata": {},
   "outputs": [
    {
     "data": {
      "text/plain": [
       "True"
      ]
     },
     "execution_count": 6,
     "metadata": {},
     "output_type": "execute_result"
    }
   ],
   "source": [
    "'seekace' in 'i am a Seekace intern'.lower()"
   ]
  },
  {
   "cell_type": "code",
   "execution_count": 7,
   "id": "53603301",
   "metadata": {},
   "outputs": [
    {
     "data": {
      "text/plain": [
       "'hellohay'"
      ]
     },
     "execution_count": 7,
     "metadata": {},
     "output_type": "execute_result"
    }
   ],
   "source": [
    "def check_vowel(word):\n",
    "    first_word=word[0]\n",
    "    if first_word in 'aeiou':\n",
    "        return word+'ay'\n",
    "    else:\n",
    "        return word+first_word+'ay'\n",
    "check_vowel('hello')"
   ]
  },
  {
   "cell_type": "code",
   "execution_count": null,
   "id": "6c316f24",
   "metadata": {},
   "outputs": [],
   "source": []
  }
 ],
 "metadata": {
  "kernelspec": {
   "display_name": "Python 3",
   "language": "python",
   "name": "python3"
  },
  "language_info": {
   "codemirror_mode": {
    "name": "ipython",
    "version": 3
   },
   "file_extension": ".py",
   "mimetype": "text/x-python",
   "name": "python",
   "nbconvert_exporter": "python",
   "pygments_lexer": "ipython3",
   "version": "3.9.5"
  }
 },
 "nbformat": 4,
 "nbformat_minor": 5
}
