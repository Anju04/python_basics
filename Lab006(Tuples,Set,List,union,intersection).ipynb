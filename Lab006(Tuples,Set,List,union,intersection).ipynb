{
 "cells": [
  {
   "cell_type": "markdown",
   "id": "8544cfa3",
   "metadata": {},
   "source": [
    "# DS Lab2\n",
    "### List, Set, Tuples"
   ]
  },
  {
   "cell_type": "code",
   "execution_count": null,
   "id": "5ac3e1ae",
   "metadata": {},
   "outputs": [],
   "source": [
    "list=[]\n",
    "set={}\n",
    "tuple=()"
   ]
  },
  {
   "cell_type": "code",
   "execution_count": 5,
   "id": "ded217cd",
   "metadata": {},
   "outputs": [
    {
     "name": "stdout",
     "output_type": "stream",
     "text": [
      "{1, 2, 33, 4, 3, 11, 22}\n",
      "(1, 2, 2, 33, 4, 4, 11, 22, 3, 3, 2)\n"
     ]
    }
   ],
   "source": [
    "list1 = [1,2,2,33,4,4,11,22,3,3,2]\n",
    "set1 = set(list1)\n",
    "tuple1 = tuple(list1)\n",
    "print(set1)\n",
    "print(tuple1)\n",
    "#Elements of list are unique\n",
    "#tuples are non mutable"
   ]
  },
  {
   "cell_type": "code",
   "execution_count": 7,
   "id": "8d7c60e3",
   "metadata": {},
   "outputs": [
    {
     "ename": "AttributeError",
     "evalue": "'tuple' object has no attribute 'append'",
     "output_type": "error",
     "traceback": [
      "\u001b[1;31m---------------------------------------------------------------------------\u001b[0m",
      "\u001b[1;31mAttributeError\u001b[0m                            Traceback (most recent call last)",
      "\u001b[1;32m<ipython-input-7-5fd81a71dfb4>\u001b[0m in \u001b[0;36m<module>\u001b[1;34m\u001b[0m\n\u001b[1;32m----> 1\u001b[1;33m \u001b[0mtuples1\u001b[0m\u001b[1;33m.\u001b[0m\u001b[0mappend\u001b[0m\u001b[1;33m(\u001b[0m\u001b[1;36m50\u001b[0m\u001b[1;33m)\u001b[0m\u001b[1;33m\u001b[0m\u001b[1;33m\u001b[0m\u001b[0m\n\u001b[0m",
      "\u001b[1;31mAttributeError\u001b[0m: 'tuple' object has no attribute 'append'"
     ]
    }
   ],
   "source": [
    "tuple1.append(50)"
   ]
  },
  {
   "cell_type": "code",
   "execution_count": 18,
   "id": "f5eb408d",
   "metadata": {},
   "outputs": [
    {
     "name": "stdout",
     "output_type": "stream",
     "text": [
      "[1, 2, 2, 33, 4, 4, 11, 22, 3, 3, 50]\n"
     ]
    }
   ],
   "source": [
    "list1.append(50)\n",
    "print(list1)"
   ]
  },
  {
   "cell_type": "code",
   "execution_count": 24,
   "id": "368fca98",
   "metadata": {},
   "outputs": [
    {
     "name": "stdout",
     "output_type": "stream",
     "text": [
      "{1, 2, 33, 4, 3, 11, 20, 22}\n"
     ]
    }
   ],
   "source": [
    "set1.add(20)\n",
    "set1.add(20)\n",
    "print(set1)"
   ]
  },
  {
   "cell_type": "markdown",
   "id": "9073e8c9",
   "metadata": {},
   "source": [
    "## Union"
   ]
  },
  {
   "cell_type": "code",
   "execution_count": 29,
   "id": "20ce716a",
   "metadata": {},
   "outputs": [
    {
     "name": "stdout",
     "output_type": "stream",
     "text": [
      "{1, 2, 33, 4, 3, 'good', 11, 'hello', 20, 22}\n"
     ]
    }
   ],
   "source": [
    "list2=['hello',\"good\"]\n",
    "print(set1.union(list2))"
   ]
  },
  {
   "cell_type": "code",
   "execution_count": 38,
   "id": "a46a8c07",
   "metadata": {},
   "outputs": [
    {
     "name": "stdout",
     "output_type": "stream",
     "text": [
      "{1, 2, 33, 4, 3, 11, 20, 22, 'apple', 'mango'}\n"
     ]
    }
   ],
   "source": [
    "set2={\"apple\",\"mango\"}\n",
    "set2=set1|set2\n",
    "print(set2)\n",
    "#print(set1 | tuple2)"
   ]
  },
  {
   "cell_type": "code",
   "execution_count": 41,
   "id": "8b509a8d",
   "metadata": {},
   "outputs": [
    {
     "name": "stdout",
     "output_type": "stream",
     "text": [
      "{1, 2, 3, 'see you', 'bye'}\n"
     ]
    }
   ],
   "source": [
    "tuple1={1,2,3}\n",
    "tuple2={\"bye\",\"see you\"}\n",
    "tuple2=tuple2|tuple1\n",
    "print(tuple2)"
   ]
  },
  {
   "cell_type": "code",
   "execution_count": 1,
   "id": "4ca993b6",
   "metadata": {},
   "outputs": [
    {
     "ename": "TypeError",
     "evalue": "unhashable type: 'dict'",
     "output_type": "error",
     "traceback": [
      "\u001b[1;31m---------------------------------------------------------------------------\u001b[0m",
      "\u001b[1;31mTypeError\u001b[0m                                 Traceback (most recent call last)",
      "\u001b[1;32m<ipython-input-1-498a03472e35>\u001b[0m in \u001b[0;36m<module>\u001b[1;34m\u001b[0m\n\u001b[1;32m----> 1\u001b[1;33m \u001b[0md\u001b[0m\u001b[1;33m=\u001b[0m\u001b[1;33m{\u001b[0m\u001b[1;34m'k1'\u001b[0m\u001b[1;33m:\u001b[0m\u001b[1;33m[\u001b[0m\u001b[1;36m1\u001b[0m\u001b[1;33m,\u001b[0m\u001b[1;36m2\u001b[0m\u001b[1;33m,\u001b[0m\u001b[1;33m{\u001b[0m\u001b[1;34m'k2'\u001b[0m\u001b[1;33m:\u001b[0m\u001b[1;33m{\u001b[0m\u001b[1;34m'this is tricky'\u001b[0m\u001b[1;33m,\u001b[0m\u001b[1;33m{\u001b[0m\u001b[1;34m'though'\u001b[0m\u001b[1;33m:\u001b[0m\u001b[1;33m[\u001b[0m\u001b[1;36m1\u001b[0m\u001b[1;33m,\u001b[0m\u001b[1;36m2\u001b[0m\u001b[1;33m,\u001b[0m\u001b[1;33m[\u001b[0m\u001b[1;34m'hello'\u001b[0m\u001b[1;33m]\u001b[0m\u001b[1;33m]\u001b[0m\u001b[1;33m}\u001b[0m\u001b[1;33m}\u001b[0m\u001b[1;33m}\u001b[0m\u001b[1;33m]\u001b[0m\u001b[1;33m}\u001b[0m\u001b[1;33m\u001b[0m\u001b[1;33m\u001b[0m\u001b[0m\n\u001b[0m\u001b[0;32m      2\u001b[0m \u001b[1;31m#Try to access array\u001b[0m\u001b[1;33m\u001b[0m\u001b[1;33m\u001b[0m\u001b[1;33m\u001b[0m\u001b[0m\n",
      "\u001b[1;31mTypeError\u001b[0m: unhashable type: 'dict'"
     ]
    }
   ],
   "source": [
    "d={'k1':[1,2,{'k2':{'this is tricky',{'though':[1,2,['hello']]}}}]}\n",
    "#Try to access array"
   ]
  },
  {
   "cell_type": "code",
   "execution_count": 2,
   "id": "37739d50",
   "metadata": {},
   "outputs": [
    {
     "name": "stdout",
     "output_type": "stream",
     "text": [
      "{1, 2, 3, 4, 5, 6}\n"
     ]
    }
   ],
   "source": [
    "list1=[1,2,3,4,5,6]\n",
    "set1=set(list1)\n",
    "print(set1)"
   ]
  },
  {
   "cell_type": "code",
   "execution_count": null,
   "id": "35c68cdd",
   "metadata": {},
   "outputs": [],
   "source": []
  }
 ],
 "metadata": {
  "kernelspec": {
   "display_name": "Python 3",
   "language": "python",
   "name": "python3"
  },
  "language_info": {
   "codemirror_mode": {
    "name": "ipython",
    "version": 3
   },
   "file_extension": ".py",
   "mimetype": "text/x-python",
   "name": "python",
   "nbconvert_exporter": "python",
   "pygments_lexer": "ipython3",
   "version": "3.9.5"
  }
 },
 "nbformat": 4,
 "nbformat_minor": 5
}
