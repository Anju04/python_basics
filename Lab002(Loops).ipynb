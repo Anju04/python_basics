{
 "cells": [
  {
   "cell_type": "markdown",
   "id": "dbdfc243",
   "metadata": {},
   "source": [
    "# Lab 2(Loops)\n",
    "##### 12 July 2021\n",
    "##### loops while loop, for loop, range"
   ]
  },
  {
   "cell_type": "markdown",
   "id": "88925947",
   "metadata": {},
   "source": [
    "### Loops"
   ]
  },
  {
   "cell_type": "code",
   "execution_count": 1,
   "id": "215c809b",
   "metadata": {},
   "outputs": [
    {
     "name": "stdout",
     "output_type": "stream",
     "text": [
      "1\n",
      "2\n",
      "3\n",
      "4\n",
      "5\n",
      "6\n",
      "7\n",
      "8\n",
      "9\n",
      "This is outside of while loop\n"
     ]
    }
   ],
   "source": [
    "# Demonstration of while loop\n",
    "i=1\n",
    "\n",
    "while(i<10):\n",
    "    print(i)\n",
    "    i+=1\n",
    "    \n",
    "print(\"This is outside of while loop\")"
   ]
  },
  {
   "cell_type": "code",
   "execution_count": 2,
   "id": "7f73b2a9",
   "metadata": {},
   "outputs": [
    {
     "name": "stdout",
     "output_type": "stream",
     "text": [
      "Enter no you need sum of: 8\n",
      "36\n"
     ]
    }
   ],
   "source": [
    "#program to add n natural numbers\n",
    "#sum=1+2\n",
    "n=int(input(\"Enter no you need sum of: \"))\n",
    "sum=0\n",
    "i=1\n",
    "while(i<=n):\n",
    "    sum=sum+i\n",
    "    i+=1\n",
    "print(sum)"
   ]
  },
  {
   "cell_type": "code",
   "execution_count": 3,
   "id": "2fd60421",
   "metadata": {},
   "outputs": [
    {
     "name": "stdout",
     "output_type": "stream",
     "text": [
      "0\n",
      "1\n",
      "2\n",
      "3\n",
      "4\n",
      "5\n",
      "6\n",
      "7\n",
      "8\n",
      "9\n"
     ]
    }
   ],
   "source": [
    "# Demonstration of for loop\n",
    "#range(1parameter)\n",
    "i=0;\n",
    "for i in range (10):\n",
    "    print(i)"
   ]
  },
  {
   "cell_type": "code",
   "execution_count": 4,
   "id": "a34f1374",
   "metadata": {},
   "outputs": [
    {
     "name": "stdout",
     "output_type": "stream",
     "text": [
      "2\n",
      "3\n",
      "4\n",
      "5\n",
      "6\n",
      "7\n",
      "8\n"
     ]
    }
   ],
   "source": [
    "#range (1st parameter, 2nd parameter)\n",
    "for i in range (2,9):\n",
    "    print(i)"
   ]
  },
  {
   "cell_type": "code",
   "execution_count": 5,
   "id": "312b8718",
   "metadata": {},
   "outputs": [
    {
     "name": "stdout",
     "output_type": "stream",
     "text": [
      "5\n",
      "7\n",
      "9\n",
      "11\n",
      "13\n",
      "15\n",
      "17\n",
      "19\n",
      "21\n",
      "23\n",
      "25\n",
      "27\n",
      "29\n"
     ]
    }
   ],
   "source": [
    "# range (1st parameter, 2nd parameter, 3rd parameter)\n",
    "i=0\n",
    "for i in range (5,30,2):\n",
    "    print(i)"
   ]
  },
  {
   "cell_type": "markdown",
   "id": "11497c07",
   "metadata": {},
   "source": [
    "### Print odd no between given two numbers higher limit included"
   ]
  },
  {
   "cell_type": "code",
   "execution_count": 6,
   "id": "464d1971",
   "metadata": {},
   "outputs": [
    {
     "name": "stdout",
     "output_type": "stream",
     "text": [
      "Enter lower limit: 5\n",
      "Enter upper limit: 11\n",
      "5\n",
      "7\n",
      "9\n",
      "11\n"
     ]
    }
   ],
   "source": [
    "i=0\n",
    "low=int(input(\"Enter lower limit: \"))\n",
    "high=int(input(\"Enter upper limit: \"))\n",
    "for i in range (low,high+1,2):\n",
    "    print(i)"
   ]
  },
  {
   "cell_type": "markdown",
   "id": "95190bc6",
   "metadata": {},
   "source": [
    "### Demonstration of break and continue"
   ]
  },
  {
   "cell_type": "code",
   "execution_count": 7,
   "id": "123e851c",
   "metadata": {},
   "outputs": [
    {
     "name": "stdout",
     "output_type": "stream",
     "text": [
      "3\n",
      "4\n",
      "5\n",
      "7\n"
     ]
    }
   ],
   "source": [
    "for i in range(3,12):\n",
    "    if(i==8):\n",
    "        break\n",
    "    if(i==6):\n",
    "        continue\n",
    "    print(i)"
   ]
  },
  {
   "cell_type": "code",
   "execution_count": 8,
   "id": "675cb5fd",
   "metadata": {},
   "outputs": [
    {
     "name": "stdout",
     "output_type": "stream",
     "text": [
      "Enter string: hello. I.am.anju\n",
      "['hello.', 'I.am.anju']\n",
      "['hello', ' I', 'am', 'anju']\n"
     ]
    }
   ],
   "source": [
    "str=input(\"Enter string: \")\n",
    "# Split using white spaces\n",
    "print(str.split())\n",
    "\n",
    "# Print using special symbols\n",
    "print(str.split(\".\"))"
   ]
  },
  {
   "cell_type": "code",
   "execution_count": 2,
   "id": "0f13f02d",
   "metadata": {},
   "outputs": [],
   "source": [
    "for j in range(1,1):\n",
    "    print(j)\n",
    "# print no output as 2nd 1 is not included in the limit"
   ]
  },
  {
   "cell_type": "code",
   "execution_count": 6,
   "id": "7b625d36",
   "metadata": {},
   "outputs": [
    {
     "name": "stdout",
     "output_type": "stream",
     "text": [
      "Enter no you want to enter: 5\n",
      "1  +  1 / 2  +  1 / 3  +  1 / 4  +  1 / 5  +  1 / 6 "
     ]
    }
   ],
   "source": [
    "# print series 1 + 1/2 + 1/3 + 1/4 + 1/5 +.....\n",
    "n=int(input(\"Enter no you want to enter: \"))\n",
    "print(1,end=\" \")\n",
    "for i in range(1,n+1):\n",
    "    print(\" + \",1,\"/\",i+1,end=\" \")"
   ]
  },
  {
   "cell_type": "code",
   "execution_count": null,
   "id": "3d8d51a1",
   "metadata": {},
   "outputs": [],
   "source": []
  }
 ],
 "metadata": {
  "kernelspec": {
   "display_name": "Python 3",
   "language": "python",
   "name": "python3"
  },
  "language_info": {
   "codemirror_mode": {
    "name": "ipython",
    "version": 3
   },
   "file_extension": ".py",
   "mimetype": "text/x-python",
   "name": "python",
   "nbconvert_exporter": "python",
   "pygments_lexer": "ipython3",
   "version": "3.9.5"
  }
 },
 "nbformat": 4,
 "nbformat_minor": 5
}
