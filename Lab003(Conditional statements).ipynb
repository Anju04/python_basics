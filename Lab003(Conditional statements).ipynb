{
 "cells": [
  {
   "cell_type": "markdown",
   "id": "4cc47ec1",
   "metadata": {},
   "source": [
    "## Lab 3(conditional statements)\n",
    "##### 14 july 2021\n",
    "##### if else and elif conditions"
   ]
  },
  {
   "cell_type": "markdown",
   "id": "b0548f63",
   "metadata": {},
   "source": [
    "### Conditional Statements"
   ]
  },
  {
   "cell_type": "code",
   "execution_count": 3,
   "id": "e4c44a46",
   "metadata": {},
   "outputs": [
    {
     "name": "stdout",
     "output_type": "stream",
     "text": [
      "a is grater than 5\n",
      "This is outside the loop\n"
     ]
    }
   ],
   "source": [
    "a=10\n",
    "if(a>5):\n",
    "    print(\"a is grater than 5\")\n",
    "print(\"This is outside the loop\")"
   ]
  },
  {
   "cell_type": "code",
   "execution_count": 4,
   "id": "fec86891",
   "metadata": {},
   "outputs": [
    {
     "name": "stdout",
     "output_type": "stream",
     "text": [
      "This is outside the loop\n"
     ]
    }
   ],
   "source": [
    "a=3\n",
    "if(a>5):\n",
    "    print(\"a is grater than 5\")\n",
    "print(\"This is outside the loop\")"
   ]
  },
  {
   "cell_type": "code",
   "execution_count": 5,
   "id": "b1117011",
   "metadata": {},
   "outputs": [
    {
     "name": "stdout",
     "output_type": "stream",
     "text": [
      "a is smaller than 5\n",
      "This is outside the loop\n"
     ]
    }
   ],
   "source": [
    "a=3\n",
    "if(a>5):\n",
    "    print(\"a is grater than 5\")\n",
    "else:\n",
    "    print(\"a is smaller than 5\")\n",
    "print(\"This is outside the loop\")"
   ]
  },
  {
   "cell_type": "code",
   "execution_count": null,
   "id": "fa513a00",
   "metadata": {},
   "outputs": [],
   "source": [
    "a=3\n",
    "if(a>5):\n",
    "    print(\"a is grater than 5\")\n",
    "else:\n",
    "    print(\"a is smaller than 5\")\n",
    "elif:\n",
    "    print(\"a is \")\n",
    "print(\"This is outside the loop\")"
   ]
  },
  {
   "cell_type": "code",
   "execution_count": 6,
   "id": "a7afd299",
   "metadata": {},
   "outputs": [
    {
     "name": "stdout",
     "output_type": "stream",
     "text": [
      "Enter 1st value: 5\n",
      "Enter 2st value: 4\n",
      " 5 is grater than 4\n"
     ]
    }
   ],
   "source": [
    "a=int(input(\"Enter 1st value: \"))\n",
    "b=int(input(\"Enter 2st value: \"))\n",
    "if(a>b):\n",
    "    print(\" {} is grater\".format(a),\"than {}\".format(b))\n",
    "elif(a==b):\n",
    "    print(\" {} is equal\".format(a),\"than {}\".format(b))\n",
    "if(a<b):\n",
    "    print(\" {} is less\".format(a),\"than {}\".format(b))"
   ]
  },
  {
   "cell_type": "code",
   "execution_count": 9,
   "id": "ec45e4e6",
   "metadata": {},
   "outputs": [
    {
     "name": "stdout",
     "output_type": "stream",
     "text": [
      "Enter 1st value: 4\n",
      "Enter 2nd value: 2\n",
      "Enter 3rd value: 1\n",
      "4 is gratest\n"
     ]
    }
   ],
   "source": [
    "a=int(input(\"Enter 1st value: \"))\n",
    "b=int(input(\"Enter 2nd value: \"))\n",
    "c=int(input(\"Enter 3rd value: \"))\n",
    "\n",
    "if(a>b and a>c):\n",
    "    print(\"{} is gratest\".format(a))\n",
    "elif(b>a and b>c):\n",
    "    print(\"b is greatest\")\n",
    "else:\n",
    "    print(\"c is gratest\")"
   ]
  },
  {
   "cell_type": "code",
   "execution_count": 12,
   "id": "19442912",
   "metadata": {},
   "outputs": [
    {
     "name": "stdout",
     "output_type": "stream",
     "text": [
      "Enter 1st value: 8\n",
      "8 is even\n"
     ]
    }
   ],
   "source": [
    "a=int(input(\"Enter 1st value: \"))\n",
    "if(a%2==0):\n",
    "    print(\"{} is even\".format(a))\n",
    "else:\n",
    "    print(\"{} is odd\".format(a))\n",
    "    "
   ]
  },
  {
   "cell_type": "code",
   "execution_count": 14,
   "id": "89f8bbde",
   "metadata": {},
   "outputs": [
    {
     "name": "stdout",
     "output_type": "stream",
     "text": [
      "Enter lower limit: 5\n",
      "Enter upper limit: 10\n",
      "5 is odd\n",
      "6 is even\n",
      "7 is odd\n",
      "8 is even\n",
      "9 is odd\n",
      "10 is even\n"
     ]
    }
   ],
   "source": [
    "l=int(input(\"Enter lower limit: \"))\n",
    "h=int(input(\"Enter upper limit: \"))\n",
    "for i in range(l,h+1):\n",
    "    if(i%2==0):\n",
    "        print(\"{} is even\".format(i))\n",
    "    else:\n",
    "         print(\"{} is odd\".format(i))"
   ]
  },
  {
   "cell_type": "code",
   "execution_count": 18,
   "id": "bf390c52",
   "metadata": {},
   "outputs": [
    {
     "ename": "SyntaxError",
     "evalue": "invalid syntax (<ipython-input-18-bbb8a2611447>, line 6)",
     "output_type": "error",
     "traceback": [
      "\u001b[1;36m  File \u001b[1;32m\"<ipython-input-18-bbb8a2611447>\"\u001b[1;36m, line \u001b[1;32m6\u001b[0m\n\u001b[1;33m    elif:\u001b[0m\n\u001b[1;37m        ^\u001b[0m\n\u001b[1;31mSyntaxError\u001b[0m\u001b[1;31m:\u001b[0m invalid syntax\n"
     ]
    }
   ],
   "source": [
    "a=int(input(\"Enter 1st value: \"))\n",
    "b=int(input(\"Enter 2nd value: \"))\n",
    "c=a-b\n",
    "if(c>0):\n",
    "    print(\"value is positive\")\n",
    "elif:\n",
    "    print(\"{} is 0\".format(c))\n",
    "else:\n",
    "    print(\"{} is negetive\".format(c))\n",
    "# can use if((a-b)>=0)"
   ]
  },
  {
   "cell_type": "code",
   "execution_count": 20,
   "id": "697671b7",
   "metadata": {},
   "outputs": [
    {
     "name": "stdout",
     "output_type": "stream",
     "text": [
      "Enter a characterk\n",
      "it is a character\n"
     ]
    }
   ],
   "source": [
    "char=input(\"Enter a character\")\n",
    "if(char.isdigit()):\n",
    "    pirnt(\"it is a digit\")\n",
    "else:\n",
    "    print(\"it is a character\")"
   ]
  },
  {
   "cell_type": "code",
   "execution_count": null,
   "id": "64cf61b0",
   "metadata": {},
   "outputs": [],
   "source": [
    "char=input(\"Enter a character: \")\n",
    "if(char.isalpha()):\n",
    "    print(\"It is an alphabet\")\n",
    "else:\n",
    "    print(\"It is not an alphabet\")"
   ]
  },
  {
   "cell_type": "code",
   "execution_count": 3,
   "id": "779bf0bf",
   "metadata": {},
   "outputs": [
    {
     "name": "stdout",
     "output_type": "stream",
     "text": [
      "Enter no of student: 2\n",
      "Enter name and marks of 5 subjects out of 10, use comma to seperate values anju,0,0,0,0,0\n",
      "student anju get D grade  marks obtain is 0.0\n",
      "\n",
      "Enter name and marks of 5 subjects out of 10, use comma to seperate values jaya,1.1,1.2,3.3,5.5,9\n",
      "student jaya get D grade  marks obtain is 40.2\n",
      "\n"
     ]
    }
   ],
   "source": [
    "no=int(input(\"Enter no of student: \"))\n",
    "#sub=int(input(\"Enter no of subjects: \"))\n",
    "avg=0\n",
    "mark=0\n",
    "\n",
    "for i in range(1,no+1):\n",
    "    n,m1,m2,m3,m4,m5=input(\"Enter name and marks of 5 subjects out of 10, use comma to seperate values \").split(sep=\",\")\n",
    "    if(not n.isalpha()):\n",
    "        (\"Entered name is not correct!\")\n",
    "    if(float(m1)>10 or float(m2)>10 or float(m3)>10 or float(m4)>10 or float(m5)>10):\n",
    "        print(\"entered marks are not correct.\\n Enter marks out of 10\")\n",
    "        \n",
    "    avg=((float(m1)+float(m2)+float(m3)+float(m4)+float(m5))/50)*100\n",
    "    \n",
    "    if(avg>=90):\n",
    "        print(\"{} get A grade\".format(n),\" marks obtain is {}\".format(avg))\n",
    "    elif(avg>=70):\n",
    "        print(\"{} get B grade\".format(n),\" marks obtain is {}\".format(avg))\n",
    "    elif(avg>=60):\n",
    "        print(\"student {} get C grade\".format(n),\" marks obtain is {}\".format(avg))\n",
    "    else:\n",
    "        print(\"student {} get D grade\".format(n),\" marks obtain is {}\".format(avg))\n",
    "    print(\"\")\n",
    "    "
   ]
  },
  {
   "cell_type": "code",
   "execution_count": null,
   "id": "e80fe6c5",
   "metadata": {},
   "outputs": [],
   "source": []
  }
 ],
 "metadata": {
  "kernelspec": {
   "display_name": "Python 3",
   "language": "python",
   "name": "python3"
  },
  "language_info": {
   "codemirror_mode": {
    "name": "ipython",
    "version": 3
   },
   "file_extension": ".py",
   "mimetype": "text/x-python",
   "name": "python",
   "nbconvert_exporter": "python",
   "pygments_lexer": "ipython3",
   "version": "3.9.5"
  }
 },
 "nbformat": 4,
 "nbformat_minor": 5
}
