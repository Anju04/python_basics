{
 "cells": [
  {
   "cell_type": "code",
   "execution_count": 2,
   "id": "083ddcc6",
   "metadata": {},
   "outputs": [
    {
     "name": "stdout",
     "output_type": "stream",
     "text": [
      "['one', 'two', [1, 2, 3, 4]]\n"
     ]
    }
   ],
   "source": [
    "a=[1,2,3,4]\n",
    "b=['one','two',a]\n",
    "print(b)"
   ]
  },
  {
   "cell_type": "code",
   "execution_count": 3,
   "id": "a11a3630",
   "metadata": {},
   "outputs": [
    {
     "name": "stdout",
     "output_type": "stream",
     "text": [
      "Happy diwali  john\n",
      "Happy diwali  joseph\n",
      "Happy diwali  sally\n",
      "done!\n"
     ]
    }
   ],
   "source": [
    "friends=['john','joseph','sally']\n",
    "for friend in friends:\n",
    "    print(\"Happy diwali \",friend)\n",
    "print(\"done!\")\n"
   ]
  },
  {
   "cell_type": "code",
   "execution_count": 6,
   "id": "a69f431b",
   "metadata": {},
   "outputs": [
    {
     "name": "stdout",
     "output_type": "stream",
     "text": [
      "john\n"
     ]
    }
   ],
   "source": [
    "print(friends[0])"
   ]
  },
  {
   "cell_type": "code",
   "execution_count": 13,
   "id": "32a504e1",
   "metadata": {},
   "outputs": [
    {
     "name": "stdout",
     "output_type": "stream",
     "text": [
      "['anju', 'joseph', 'sally']\n"
     ]
    }
   ],
   "source": [
    "friends[0]='anju'\n",
    "print(friends)"
   ]
  },
  {
   "cell_type": "code",
   "execution_count": 15,
   "id": "fd92b22f",
   "metadata": {},
   "outputs": [
    {
     "data": {
      "text/plain": [
       "['anju', 'joseph', 'sally']"
      ]
     },
     "execution_count": 15,
     "metadata": {},
     "output_type": "execute_result"
    }
   ],
   "source": [
    "friends[:]"
   ]
  },
  {
   "cell_type": "code",
   "execution_count": 16,
   "id": "695bf688",
   "metadata": {},
   "outputs": [
    {
     "data": {
      "text/plain": [
       "['__add__',\n",
       " '__class__',\n",
       " '__class_getitem__',\n",
       " '__contains__',\n",
       " '__delattr__',\n",
       " '__delitem__',\n",
       " '__dir__',\n",
       " '__doc__',\n",
       " '__eq__',\n",
       " '__format__',\n",
       " '__ge__',\n",
       " '__getattribute__',\n",
       " '__getitem__',\n",
       " '__gt__',\n",
       " '__hash__',\n",
       " '__iadd__',\n",
       " '__imul__',\n",
       " '__init__',\n",
       " '__init_subclass__',\n",
       " '__iter__',\n",
       " '__le__',\n",
       " '__len__',\n",
       " '__lt__',\n",
       " '__mul__',\n",
       " '__ne__',\n",
       " '__new__',\n",
       " '__reduce__',\n",
       " '__reduce_ex__',\n",
       " '__repr__',\n",
       " '__reversed__',\n",
       " '__rmul__',\n",
       " '__setattr__',\n",
       " '__setitem__',\n",
       " '__sizeof__',\n",
       " '__str__',\n",
       " '__subclasshook__',\n",
       " 'append',\n",
       " 'clear',\n",
       " 'copy',\n",
       " 'count',\n",
       " 'extend',\n",
       " 'index',\n",
       " 'insert',\n",
       " 'pop',\n",
       " 'remove',\n",
       " 'reverse',\n",
       " 'sort']"
      ]
     },
     "execution_count": 16,
     "metadata": {},
     "output_type": "execute_result"
    }
   ],
   "source": [
    "dir(friends)"
   ]
  },
  {
   "cell_type": "code",
   "execution_count": 17,
   "id": "4420678e",
   "metadata": {},
   "outputs": [
    {
     "ename": "AttributeError",
     "evalue": "'list' object has no attribute 'add'",
     "output_type": "error",
     "traceback": [
      "\u001b[1;31m---------------------------------------------------------------------------\u001b[0m",
      "\u001b[1;31mAttributeError\u001b[0m                            Traceback (most recent call last)",
      "\u001b[1;32m<ipython-input-17-f7cc202a56ef>\u001b[0m in \u001b[0;36m<module>\u001b[1;34m\u001b[0m\n\u001b[1;32m----> 1\u001b[1;33m \u001b[0mfriends\u001b[0m\u001b[1;33m.\u001b[0m\u001b[0madd\u001b[0m\u001b[1;33m(\u001b[0m\u001b[1;34m'anju'\u001b[0m\u001b[1;33m)\u001b[0m\u001b[1;33m\u001b[0m\u001b[1;33m\u001b[0m\u001b[0m\n\u001b[0m",
      "\u001b[1;31mAttributeError\u001b[0m: 'list' object has no attribute 'add'"
     ]
    }
   ],
   "source": [
    "friends.add('anju')"
   ]
  },
  {
   "cell_type": "code",
   "execution_count": 20,
   "id": "6aadc531",
   "metadata": {},
   "outputs": [
    {
     "name": "stdout",
     "output_type": "stream",
     "text": [
      "['anju', 'joseph', 'sally', 'anju', 'anju', 'anju']\n"
     ]
    }
   ],
   "source": [
    "friends.append('anju')\n",
    "print(friends)"
   ]
  },
  {
   "cell_type": "code",
   "execution_count": 21,
   "id": "d92e92b0",
   "metadata": {},
   "outputs": [],
   "source": [
    "friends[0]='john'"
   ]
  },
  {
   "cell_type": "code",
   "execution_count": 22,
   "id": "a0ba9b97",
   "metadata": {},
   "outputs": [
    {
     "name": "stdout",
     "output_type": "stream",
     "text": [
      "['john', 'joseph', 'sally', 'anju', 'anju', 'anju']\n"
     ]
    }
   ],
   "source": [
    "print(friends)"
   ]
  },
  {
   "cell_type": "code",
   "execution_count": 23,
   "id": "a08f1ab1",
   "metadata": {},
   "outputs": [
    {
     "name": "stdout",
     "output_type": "stream",
     "text": [
      "['john', 'joseph', 'sally', 'anju', 'anju']\n"
     ]
    }
   ],
   "source": [
    "friends.pop()\n",
    "print(friends)"
   ]
  },
  {
   "cell_type": "code",
   "execution_count": 24,
   "id": "786cd00f",
   "metadata": {},
   "outputs": [
    {
     "data": {
      "text/plain": [
       "'anju'"
      ]
     },
     "execution_count": 24,
     "metadata": {},
     "output_type": "execute_result"
    }
   ],
   "source": [
    "friends.pop()"
   ]
  },
  {
   "cell_type": "code",
   "execution_count": 25,
   "id": "c7c85827",
   "metadata": {},
   "outputs": [
    {
     "name": "stdout",
     "output_type": "stream",
     "text": [
      "['john', 'joseph', 'sally', 'anju']\n"
     ]
    }
   ],
   "source": [
    "print(friends)"
   ]
  },
  {
   "cell_type": "code",
   "execution_count": 26,
   "id": "d9b70505",
   "metadata": {},
   "outputs": [],
   "source": [
    "friends.sort()"
   ]
  },
  {
   "cell_type": "code",
   "execution_count": 27,
   "id": "2b989acc",
   "metadata": {},
   "outputs": [
    {
     "name": "stdout",
     "output_type": "stream",
     "text": [
      "['anju', 'john', 'joseph', 'sally']\n"
     ]
    }
   ],
   "source": [
    "print(friends)"
   ]
  },
  {
   "cell_type": "code",
   "execution_count": 28,
   "id": "8ca66a3e",
   "metadata": {},
   "outputs": [
    {
     "name": "stdout",
     "output_type": "stream",
     "text": [
      "<class 'list'>\n"
     ]
    }
   ],
   "source": [
    "print(type(friends))"
   ]
  },
  {
   "cell_type": "code",
   "execution_count": 29,
   "id": "3ea7740d",
   "metadata": {},
   "outputs": [
    {
     "name": "stdout",
     "output_type": "stream",
     "text": [
      "<class 'list'>\n"
     ]
    }
   ],
   "source": [
    "x=[]\n",
    "print(type(x))"
   ]
  },
  {
   "cell_type": "code",
   "execution_count": 64,
   "id": "78142e6e",
   "metadata": {},
   "outputs": [
    {
     "data": {
      "text/plain": [
       "['__add__',\n",
       " '__class__',\n",
       " '__class_getitem__',\n",
       " '__contains__',\n",
       " '__delattr__',\n",
       " '__delitem__',\n",
       " '__dir__',\n",
       " '__doc__',\n",
       " '__eq__',\n",
       " '__format__',\n",
       " '__ge__',\n",
       " '__getattribute__',\n",
       " '__getitem__',\n",
       " '__gt__',\n",
       " '__hash__',\n",
       " '__iadd__',\n",
       " '__imul__',\n",
       " '__init__',\n",
       " '__init_subclass__',\n",
       " '__iter__',\n",
       " '__le__',\n",
       " '__len__',\n",
       " '__lt__',\n",
       " '__mul__',\n",
       " '__ne__',\n",
       " '__new__',\n",
       " '__reduce__',\n",
       " '__reduce_ex__',\n",
       " '__repr__',\n",
       " '__reversed__',\n",
       " '__rmul__',\n",
       " '__setattr__',\n",
       " '__setitem__',\n",
       " '__sizeof__',\n",
       " '__str__',\n",
       " '__subclasshook__',\n",
       " 'append',\n",
       " 'clear',\n",
       " 'copy',\n",
       " 'count',\n",
       " 'extend',\n",
       " 'index',\n",
       " 'insert',\n",
       " 'pop',\n",
       " 'remove',\n",
       " 'reverse',\n",
       " 'sort']"
      ]
     },
     "execution_count": 64,
     "metadata": {},
     "output_type": "execute_result"
    }
   ],
   "source": [
    "dir(x)"
   ]
  },
  {
   "cell_type": "markdown",
   "id": "2ead9d8e",
   "metadata": {},
   "source": [
    "### add elements in a list using append()"
   ]
  },
  {
   "cell_type": "code",
   "execution_count": 31,
   "id": "35eb9a2d",
   "metadata": {},
   "outputs": [],
   "source": [
    "x=list()\n",
    "x.append(5)"
   ]
  },
  {
   "cell_type": "code",
   "execution_count": 32,
   "id": "bdcbec0f",
   "metadata": {},
   "outputs": [
    {
     "name": "stdout",
     "output_type": "stream",
     "text": [
      "[5, 6]\n"
     ]
    }
   ],
   "source": [
    "x.append(6)\n",
    "print(x)"
   ]
  },
  {
   "cell_type": "code",
   "execution_count": 36,
   "id": "d37932a7",
   "metadata": {},
   "outputs": [
    {
     "name": "stdout",
     "output_type": "stream",
     "text": [
      "[5, 6, 'a', 'hello', 'a', 'hello', 'a', 'hello', 'a', 'hello', 7.8]\n"
     ]
    }
   ],
   "source": [
    "x.append('a')\n",
    "x.append('hello')\n",
    "x.append(7.8)\n",
    "print(x)"
   ]
  },
  {
   "cell_type": "code",
   "execution_count": 37,
   "id": "73da0e25",
   "metadata": {},
   "outputs": [],
   "source": [
    "x.insert(4,'friends')"
   ]
  },
  {
   "cell_type": "code",
   "execution_count": 38,
   "id": "639ead4d",
   "metadata": {},
   "outputs": [
    {
     "name": "stdout",
     "output_type": "stream",
     "text": [
      "[5, 6, 'a', 'hello', 'friends', 'a', 'hello', 'a', 'hello', 'a', 'hello', 7.8]\n"
     ]
    }
   ],
   "source": [
    "print(x)"
   ]
  },
  {
   "cell_type": "code",
   "execution_count": 39,
   "id": "6df2f224",
   "metadata": {},
   "outputs": [],
   "source": [
    "x.insert(4,\"good morning\")"
   ]
  },
  {
   "cell_type": "code",
   "execution_count": 40,
   "id": "411f0dee",
   "metadata": {},
   "outputs": [
    {
     "name": "stdout",
     "output_type": "stream",
     "text": [
      "[5, 6, 'a', 'hello', 'good morning', 'friends', 'a', 'hello', 'a', 'hello', 'a', 'hello', 7.8]\n"
     ]
    }
   ],
   "source": [
    "print(x)"
   ]
  },
  {
   "cell_type": "code",
   "execution_count": 42,
   "id": "5c805441",
   "metadata": {},
   "outputs": [
    {
     "name": "stdout",
     "output_type": "stream",
     "text": [
      "[5, 6, 'a', 'hello', 'good morning', 'friends', 'a', 'hello', 'a', 'hello', 'a', 'hello', 7.8, 'byee', 'byee']\n"
     ]
    }
   ],
   "source": [
    "x.insert(59,\"byee\")\n",
    "print(x)"
   ]
  },
  {
   "cell_type": "code",
   "execution_count": 43,
   "id": "836333ca",
   "metadata": {},
   "outputs": [
    {
     "name": "stdout",
     "output_type": "stream",
     "text": [
      "grapes\n"
     ]
    }
   ],
   "source": [
    "a=['apple','mango','banan','grapes']\n",
    "print(a[-1])"
   ]
  },
  {
   "cell_type": "code",
   "execution_count": 44,
   "id": "6b10497f",
   "metadata": {},
   "outputs": [
    {
     "name": "stdout",
     "output_type": "stream",
     "text": [
      "['grapes']\n"
     ]
    }
   ],
   "source": [
    "print(a[-1:])"
   ]
  },
  {
   "cell_type": "code",
   "execution_count": 45,
   "id": "3bae27e8",
   "metadata": {},
   "outputs": [
    {
     "name": "stdout",
     "output_type": "stream",
     "text": [
      "['apple', 'mango', 'banan']\n"
     ]
    }
   ],
   "source": [
    "print(a[:-1])"
   ]
  },
  {
   "cell_type": "code",
   "execution_count": 46,
   "id": "b19aea10",
   "metadata": {},
   "outputs": [],
   "source": [
    "a[2]='banana'"
   ]
  },
  {
   "cell_type": "code",
   "execution_count": 47,
   "id": "950ffd6b",
   "metadata": {},
   "outputs": [
    {
     "name": "stdout",
     "output_type": "stream",
     "text": [
      "['apple', 'mango', 'banana']\n"
     ]
    }
   ],
   "source": [
    "print(a[:-1])"
   ]
  },
  {
   "cell_type": "code",
   "execution_count": 48,
   "id": "999e93b7",
   "metadata": {},
   "outputs": [
    {
     "name": "stdout",
     "output_type": "stream",
     "text": [
      "[]\n"
     ]
    }
   ],
   "source": [
    "print(a[:0])"
   ]
  },
  {
   "cell_type": "code",
   "execution_count": 49,
   "id": "91c14163",
   "metadata": {},
   "outputs": [
    {
     "name": "stdout",
     "output_type": "stream",
     "text": [
      "['banana', 'kiwi']\n"
     ]
    }
   ],
   "source": [
    "a.append('kiwi')\n",
    "a.append('orange')\n",
    "print(a[2:6:2])"
   ]
  },
  {
   "cell_type": "code",
   "execution_count": 51,
   "id": "12342feb",
   "metadata": {},
   "outputs": [
    {
     "name": "stdout",
     "output_type": "stream",
     "text": [
      "3 [10, 20, 30] 20\n"
     ]
    }
   ],
   "source": [
    "s=['a','b',3,5,'w',0,1,2,[10,20,30],\"hello\"]\n",
    "print(s[2],s[8],s[8][1])"
   ]
  },
  {
   "cell_type": "code",
   "execution_count": 53,
   "id": "77dc3364",
   "metadata": {},
   "outputs": [
    {
     "data": {
      "text/plain": [
       "9"
      ]
     },
     "execution_count": 53,
     "metadata": {},
     "output_type": "execute_result"
    }
   ],
   "source": [
    "a=[1,2,3,4,5,6,7,8,9,0]\n",
    "max(a)"
   ]
  },
  {
   "cell_type": "code",
   "execution_count": 54,
   "id": "78d5bce3",
   "metadata": {},
   "outputs": [
    {
     "data": {
      "text/plain": [
       "0"
      ]
     },
     "execution_count": 54,
     "metadata": {},
     "output_type": "execute_result"
    }
   ],
   "source": [
    "min(a)"
   ]
  },
  {
   "cell_type": "code",
   "execution_count": 55,
   "id": "c689f31d",
   "metadata": {},
   "outputs": [
    {
     "name": "stdout",
     "output_type": "stream",
     "text": [
      "[0, 1, 2, 3, 4, 5, 6, 7, 8, 9]\n"
     ]
    }
   ],
   "source": [
    "sum(a)"
   ]
  },
  {
   "cell_type": "code",
   "execution_count": 56,
   "id": "b9981792",
   "metadata": {},
   "outputs": [
    {
     "name": "stdout",
     "output_type": "stream",
     "text": [
      "[0, 1, 2, 3, 4, 5, 6, 7, 8, 9]\n"
     ]
    }
   ],
   "source": [
    "a.sort()\n",
    "print(a)"
   ]
  },
  {
   "cell_type": "code",
   "execution_count": 59,
   "id": "3b02fee4",
   "metadata": {},
   "outputs": [
    {
     "name": "stdout",
     "output_type": "stream",
     "text": [
      "[9, 8, 7, 6, 5, 4, 3, 2, 1, 0]\n"
     ]
    }
   ],
   "source": [
    "a.sort(reverse=True)\n",
    "print(a)"
   ]
  },
  {
   "cell_type": "markdown",
   "id": "b937f0cc",
   "metadata": {},
   "source": [
    "### 21 july 2021"
   ]
  },
  {
   "cell_type": "code",
   "execution_count": 1,
   "id": "040a4c05",
   "metadata": {},
   "outputs": [
    {
     "name": "stdout",
     "output_type": "stream",
     "text": [
      "Enter no of students: 3\n",
      "Enter name and marks out of 10 of all students: \n",
      "Enter name: anju\n",
      "Enter marks: 90\n",
      "Enter name: jaya\n",
      "Enter marks: 80\n",
      "Enter name: krishna\n",
      "Enter marks: 70\n",
      "['anju', 'jaya', 'krishna']\n",
      "[90.0, 80.0, 70.0]\n"
     ]
    }
   ],
   "source": [
    "name=[]\n",
    "marks=[]\n",
    "no=int(input(\"Enter no of students: \"))\n",
    "print(\"Enter name and marks out of 10 of all students: \")\n",
    "for i in range(0,no):\n",
    "    name.append(input(\"Enter name: \"))\n",
    "    marks.append(float(input(\"Enter marks: \")))\n",
    "    \n",
    "print(name)\n",
    "print(marks)"
   ]
  },
  {
   "cell_type": "code",
   "execution_count": 2,
   "id": "3581d3a5",
   "metadata": {},
   "outputs": [
    {
     "name": "stdout",
     "output_type": "stream",
     "text": [
      "{'anju': 90.0, 'jaya': 80.0, 'krishna': 70.0}\n",
      "[('anju', 90.0), ('jaya', 80.0), ('krishna', 70.0)]\n",
      "<class 'list'>\n",
      "<class 'zip'>\n"
     ]
    }
   ],
   "source": [
    "# zip function\n",
    "\n",
    "name_marks=zip(name,marks)\n",
    "d=dict(name_marks)\n",
    "print(d)\n",
    "\n",
    "n_m=list(zip(name,marks))\n",
    "print(n_m)\n",
    "\n",
    "print(type(n_m))\n",
    "print(type(name_marks))"
   ]
  },
  {
   "cell_type": "code",
   "execution_count": 10,
   "id": "3a2762ce",
   "metadata": {},
   "outputs": [
    {
     "name": "stdout",
     "output_type": "stream",
     "text": [
      "Name of the student: a Marks of the student : 5.0\n",
      "Name of the student: b Marks of the student : 7.0\n"
     ]
    }
   ],
   "source": [
    "# One to one relation between name and marks\n",
    "for n,m in zip(name,marks):\n",
    "    print(\"Name of the student: {} Marks of the student : {}\".format(n,m))"
   ]
  },
  {
   "cell_type": "code",
   "execution_count": 15,
   "id": "b9055403",
   "metadata": {},
   "outputs": [
    {
     "name": "stdout",
     "output_type": "stream",
     "text": [
      "[(1, 'a'), (2, 'b'), (3, 'c'), (4, 'd'), (5, 'e'), (6, 'f')]\n"
     ]
    }
   ],
   "source": [
    "# Two lists of different sizes\n",
    "l1=[1,2,3,4,5,6]\n",
    "l2=['a','b','c','d','e','f']\n",
    "l=list(zip(l1,l2))\n",
    "print(l)"
   ]
  },
  {
   "cell_type": "code",
   "execution_count": 8,
   "id": "64fcc3e3",
   "metadata": {},
   "outputs": [
    {
     "name": "stdout",
     "output_type": "stream",
     "text": [
      "Enter first list elements seprated by ,\n",
      "1,2,3\n",
      "Enter second list elements seprated by ,\n",
      "4,5,6,7\n",
      "Unsorted list is:  ['1', '2', '3', '4', '5', '6', '7']\n",
      "Sorted list is:  ['1', '2', '3', '4', '5', '6', '7']\n"
     ]
    }
   ],
   "source": [
    "print(\"Enter first list elements seprated by ,\")\n",
    "l1=(input().split(\",\"))\n",
    "    \n",
    "print(\"Enter second list elements seprated by ,\")\n",
    "l2=(input().split(\",\"))\n",
    "\n",
    "l=l1+l2\n",
    "print(\"Unsorted list is: \",l)\n",
    "l.sort()\n",
    "print(\"Sorted list is: \",l)"
   ]
  },
  {
   "cell_type": "code",
   "execution_count": null,
   "id": "98da37de",
   "metadata": {},
   "outputs": [],
   "source": []
  },
  {
   "cell_type": "code",
   "execution_count": null,
   "id": "daaedd54",
   "metadata": {},
   "outputs": [],
   "source": []
  }
 ],
 "metadata": {
  "kernelspec": {
   "display_name": "Python 3",
   "language": "python",
   "name": "python3"
  },
  "language_info": {
   "codemirror_mode": {
    "name": "ipython",
    "version": 3
   },
   "file_extension": ".py",
   "mimetype": "text/x-python",
   "name": "python",
   "nbconvert_exporter": "python",
   "pygments_lexer": "ipython3",
   "version": "3.9.5"
  }
 },
 "nbformat": 4,
 "nbformat_minor": 5
}
