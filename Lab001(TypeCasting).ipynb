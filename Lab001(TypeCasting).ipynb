{
 "cells": [
  {
   "cell_type": "markdown",
   "id": "6d67b62d",
   "metadata": {},
   "source": [
    "# Lab 1 (Type Casting)\n",
    "##### 9 July 2021\n",
    "\n",
    "##### type casting, adding string, Taking input, arithematic operation, calculator, comparison operators, Format, bitwise operatior, identifying operator"
   ]
  },
  {
   "cell_type": "markdown",
   "id": "ffd56f16",
   "metadata": {},
   "source": [
    "### Type Casting"
   ]
  },
  {
   "cell_type": "code",
   "execution_count": 2,
   "id": "35b6d858",
   "metadata": {},
   "outputs": [
    {
     "name": "stdout",
     "output_type": "stream",
     "text": [
      "1 1\n",
      "<class 'int'> <class 'str'>\n"
     ]
    }
   ],
   "source": [
    "x=1\n",
    "y='1'\n",
    "print(x,y)\n",
    "print(type(x),type(y))"
   ]
  },
  {
   "cell_type": "markdown",
   "id": "c48f8323",
   "metadata": {},
   "source": [
    "### Adding Strings"
   ]
  },
  {
   "cell_type": "code",
   "execution_count": 7,
   "id": "b29c1d4a",
   "metadata": {},
   "outputs": [
    {
     "name": "stdout",
     "output_type": "stream",
     "text": [
      "1789\n",
      "<class 'str'> <class 'str'>\n"
     ]
    }
   ],
   "source": [
    "str='178'\n",
    "s='9'\n",
    "print(str+s)\n",
    "#String concatination\n",
    "print(type(str),type(s))"
   ]
  },
  {
   "cell_type": "code",
   "execution_count": 8,
   "id": "fa8c2a63",
   "metadata": {},
   "outputs": [
    {
     "name": "stdout",
     "output_type": "stream",
     "text": [
      "187\n",
      "<class 'int'> <class 'int'>\n"
     ]
    }
   ],
   "source": [
    "str=178\n",
    "s=9\n",
    "print(str+s)\n",
    "#Arithematic operations\n",
    "print(type(str),type(s))"
   ]
  },
  {
   "cell_type": "markdown",
   "id": "35c6af7f",
   "metadata": {},
   "source": [
    "### Taking input"
   ]
  },
  {
   "cell_type": "code",
   "execution_count": 9,
   "id": "3419888a",
   "metadata": {},
   "outputs": [
    {
     "name": "stdout",
     "output_type": "stream",
     "text": [
      "Enter 1st no: 5\n",
      "Enter 2nd no: 2\n",
      "52\n",
      "<class 'str'> <class 'str'>\n",
      "Enter 1st no: 5\n",
      "Enter 2nd no: 2\n",
      "7\n",
      "<class 'int'> <class 'int'>\n"
     ]
    }
   ],
   "source": [
    "a=input(\"Enter 1st no: \")\n",
    "b=input(\"Enter 2nd no: \")\n",
    "#String concatination\n",
    "print(a+b)\n",
    "print(type(a),type(b))\n",
    "\n",
    "a=int(input(\"Enter 1st no: \"))\n",
    "b=int(input(\"Enter 2nd no: \"))\n",
    "#Arithematic operation\n",
    "print(a+b)\n",
    "print(type(a),type(b))"
   ]
  },
  {
   "cell_type": "markdown",
   "id": "39cf351d",
   "metadata": {},
   "source": [
    "### Arithematic operations"
   ]
  },
  {
   "cell_type": "code",
   "execution_count": 13,
   "id": "eaa4f0e6",
   "metadata": {},
   "outputs": [
    {
     "name": "stdout",
     "output_type": "stream",
     "text": [
      "addition:  7\n",
      "subtraction: 3\n",
      "multiplication:  10\n",
      "power:  25\n",
      "division:  2.5\n",
      "quatiant:  2\n",
      "ramainderr:  1\n"
     ]
    }
   ],
   "source": [
    "#addition\n",
    "print(\"addition: \",5+2)\n",
    "\n",
    "#subtraction\n",
    "print(\"subtraction:\",5-2)\n",
    "\n",
    "#multiplication\n",
    "print(\"multiplication: \",5*2)\n",
    "\n",
    "#power\n",
    "print(\"power: \",5**2)\n",
    "\n",
    "#division\n",
    "print(\"division: \",5/2)\n",
    "\n",
    "#quatiant\n",
    "print(\"quatiant: \",5//2)\n",
    "\n",
    "#remainder\n",
    "print(\"ramainderr: \",5%2)"
   ]
  },
  {
   "cell_type": "markdown",
   "id": "76c53982",
   "metadata": {},
   "source": [
    "## Q1\n",
    "### Make a calculator take input from user"
   ]
  },
  {
   "cell_type": "code",
   "execution_count": 14,
   "id": "fbfef55b",
   "metadata": {},
   "outputs": [
    {
     "name": "stdout",
     "output_type": "stream",
     "text": [
      "Enter 1st no: 8\n",
      "Enter 2nd no: 5\n",
      "addition:  13\n",
      "subtraction: 3\n",
      "multiplication:  40\n",
      "power:  32768\n",
      "division:  1.6\n",
      "quatiant:  1\n",
      "ramainder:  3\n"
     ]
    }
   ],
   "source": [
    "a=int(input(\"Enter 1st no: \"))\n",
    "b=int(input(\"Enter 2nd no: \"))\n",
    "#addition\n",
    "print(\"addition: \",a+b)\n",
    "\n",
    "#subtraction\n",
    "print(\"subtraction:\",a-b)\n",
    "\n",
    "#multiplication\n",
    "print(\"multiplication: \",a*b)\n",
    "\n",
    "#power\n",
    "print(\"power: \",a**b)\n",
    "\n",
    "#division\n",
    "print(\"division: \",a/b)\n",
    "\n",
    "#quatiant\n",
    "print(\"quatiant: \",a//b)\n",
    "\n",
    "#remainder\n",
    "print(\"ramainder: \",a%b)"
   ]
  },
  {
   "cell_type": "markdown",
   "id": "b2ce6684",
   "metadata": {},
   "source": [
    "### Comparison Operators"
   ]
  },
  {
   "cell_type": "code",
   "execution_count": 24,
   "id": "203a8921",
   "metadata": {},
   "outputs": [
    {
     "name": "stdout",
     "output_type": "stream",
     "text": [
      "5 == 2 False\n",
      "2 == 2 True\n",
      "5 <> 2 True\n",
      "2 != 2 False\n",
      "5 > 2 True\n",
      "2 > 2 False\n",
      "5 < 2 False\n",
      "2 < 2 False\n",
      "5 <= 2 False\n",
      "2 <= 2 False\n",
      "5 >= 2 False\n",
      "2 >= 2 False\n"
     ]
    }
   ],
   "source": [
    "a=5\n",
    "b=2\n",
    "c=2\n",
    "\n",
    "# == operator\n",
    "print(a,\"==\",b,a==b)\n",
    "print(b,\"==\",c,b==c)\n",
    "\n",
    "# != operator\n",
    "print(a,\"<>\",b,a!=b)\n",
    "print(b,\"!=\",c,b!=c)\n",
    "\n",
    "# > operator\n",
    "print(a,\">\",b,a>b)\n",
    "print(b,\">\",c,b>c)\n",
    "\n",
    "# < operator\n",
    "print(a,\"<\",b,a<b)\n",
    "print(b,\"<\",c,b<c)\n",
    "\n",
    "# <= operator\n",
    "print(a,\"<=\",b,a<b)\n",
    "print(b,\"<=\",c,b<c)\n",
    "\n",
    "# >= operator\n",
    "print(a,\">=\",b,a<b)\n",
    "print(b,\">=\",c,b<c)\n"
   ]
  },
  {
   "cell_type": "markdown",
   "id": "cf872ed7",
   "metadata": {},
   "source": [
    "### Logical operators"
   ]
  },
  {
   "cell_type": "code",
   "execution_count": 26,
   "id": "8e9d2377",
   "metadata": {},
   "outputs": [
    {
     "name": "stdout",
     "output_type": "stream",
     "text": [
      "or operator:  True\n",
      "and operator:  False\n",
      "not operator:  False\n"
     ]
    }
   ],
   "source": [
    "a=True\n",
    "b=False\n",
    "print(\"or operator: \",a or b)\n",
    "print(\"and operator: \",a and b)\n",
    "print(\"not operator: \",not a)"
   ]
  },
  {
   "cell_type": "markdown",
   "id": "d58bffaf",
   "metadata": {},
   "source": [
    "### Format"
   ]
  },
  {
   "cell_type": "code",
   "execution_count": 33,
   "id": "e25a7e5b",
   "metadata": {},
   "outputs": [
    {
     "name": "stdout",
     "output_type": "stream",
     "text": [
      "Enter your name: ANJU RATHORE\n",
      "Hello ANJU RATHORE: welcome to our hotel \n"
     ]
    }
   ],
   "source": [
    "Name=input(\"Enter your name: \")\n",
    "print(\"Hello {} welcome to our hotel \".format(Name))"
   ]
  },
  {
   "cell_type": "markdown",
   "id": "2def046b",
   "metadata": {},
   "source": [
    "## Q2\n",
    "### Take marks of 5 subjects and name of a student also find average marks"
   ]
  },
  {
   "cell_type": "code",
   "execution_count": 43,
   "id": "3e01867e",
   "metadata": {},
   "outputs": [
    {
     "name": "stdout",
     "output_type": "stream",
     "text": [
      "Enter name of student: anju\n",
      "Enter marks of Hindi: 1\n",
      "Enter marks of English: 2\n",
      "Enter marks of Math: 3\n",
      "Enter marks of Science: 4\n",
      "Enter marks of SSt: 5\n",
      "hello, anju your rusult is declared.  You average score is 3.0 marks\n"
     ]
    }
   ],
   "source": [
    "name=input(\"Enter name of student: \")\n",
    "m1=int(input(\"Enter marks of Hindi: \"))\n",
    "m2=int(input(\"Enter marks of English: \"))\n",
    "m3=int(input(\"Enter marks of Math: \"))\n",
    "m4=int(input(\"Enter marks of Science: \"))\n",
    "m5=int(input(\"Enter marks of SSt: \"))\n",
    "\n",
    "avg=(m1+m2+m3+m4+m5)/5\n",
    "print(\"hello, {} your rusult is declared.\".format(name),\" You average score is {} marks\".format(avg))"
   ]
  },
  {
   "cell_type": "markdown",
   "id": "d671c4f5",
   "metadata": {},
   "source": [
    "### Identifing operator"
   ]
  },
  {
   "cell_type": "code",
   "execution_count": 44,
   "id": "5e227497",
   "metadata": {},
   "outputs": [
    {
     "name": "stdout",
     "output_type": "stream",
     "text": [
      "False\n",
      "True\n"
     ]
    },
    {
     "name": "stderr",
     "output_type": "stream",
     "text": [
      "<>:2: SyntaxWarning: \"is\" with a literal. Did you mean \"==\"?\n",
      "<>:5: SyntaxWarning: \"is not\" with a literal. Did you mean \"!=\"?\n",
      "<>:2: SyntaxWarning: \"is\" with a literal. Did you mean \"==\"?\n",
      "<>:5: SyntaxWarning: \"is not\" with a literal. Did you mean \"!=\"?\n",
      "<ipython-input-44-cf47548aaff4>:2: SyntaxWarning: \"is\" with a literal. Did you mean \"==\"?\n",
      "  print(\"anju\" is \"jaya\")\n",
      "<ipython-input-44-cf47548aaff4>:5: SyntaxWarning: \"is not\" with a literal. Did you mean \"!=\"?\n",
      "  print(\"anju\" is not \"java\")\n"
     ]
    }
   ],
   "source": [
    "# is\n",
    "print(\"anju\" is \"jaya\")\n",
    "\n",
    "# isnot\n",
    "print(\"anju\" is not \"java\")"
   ]
  },
  {
   "cell_type": "markdown",
   "id": "be69c9f9",
   "metadata": {},
   "source": [
    "### Bitwise Operator"
   ]
  },
  {
   "cell_type": "code",
   "execution_count": 48,
   "id": "2f59b74f",
   "metadata": {},
   "outputs": [
    {
     "name": "stdout",
     "output_type": "stream",
     "text": [
      "False\n",
      "True\n",
      "True\n",
      "-6\n",
      "24\n",
      "1\n"
     ]
    }
   ],
   "source": [
    "# AND &\n",
    "print(True & False)\n",
    "\n",
    "# OR |\n",
    "print(True | False)\n",
    "\n",
    "# XOR ^\n",
    "print(True ^ False)\n",
    "\n",
    "# compliment ~\n",
    "print(~5)\n",
    "\n",
    "# Left Shift <<\n",
    "print(6<< 2)\n",
    "\n",
    "# Right Shift >>\n",
    "print(6>> 2)"
   ]
  },
  {
   "cell_type": "code",
   "execution_count": null,
   "id": "178e2161",
   "metadata": {},
   "outputs": [],
   "source": []
  }
 ],
 "metadata": {
  "kernelspec": {
   "display_name": "Python 3",
   "language": "python",
   "name": "python3"
  },
  "language_info": {
   "codemirror_mode": {
    "name": "ipython",
    "version": 3
   },
   "file_extension": ".py",
   "mimetype": "text/x-python",
   "name": "python",
   "nbconvert_exporter": "python",
   "pygments_lexer": "ipython3",
   "version": "3.9.5"
  }
 },
 "nbformat": 4,
 "nbformat_minor": 5
}
