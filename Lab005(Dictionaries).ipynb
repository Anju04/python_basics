{
 "cells": [
  {
   "cell_type": "markdown",
   "id": "f687d938",
   "metadata": {},
   "source": [
    "# Dictionaries"
   ]
  },
  {
   "cell_type": "code",
   "execution_count": 2,
   "id": "f1c0c309",
   "metadata": {},
   "outputs": [
    {
     "name": "stdout",
     "output_type": "stream",
     "text": [
      "<class 'dict'>\n",
      "<class 'dict'>\n"
     ]
    }
   ],
   "source": [
    "d=dict()\n",
    "print(type(d))\n",
    "\n",
    "c={}\n",
    "print(type(c))"
   ]
  },
  {
   "cell_type": "code",
   "execution_count": 3,
   "id": "2a43db50",
   "metadata": {},
   "outputs": [
    {
     "name": "stdout",
     "output_type": "stream",
     "text": [
      "{1: 'hello'}\n"
     ]
    }
   ],
   "source": [
    "d[1]=\"hello\"\n",
    "print(d)"
   ]
  },
  {
   "cell_type": "code",
   "execution_count": 4,
   "id": "bb356b5a",
   "metadata": {},
   "outputs": [
    {
     "name": "stdout",
     "output_type": "stream",
     "text": [
      "{1: 'hello', 2: 'hye', 3: 'bye'}\n"
     ]
    }
   ],
   "source": [
    "d[2]=\"hye\"\n",
    "d[3]=\"bye\"\n",
    "print(d)"
   ]
  },
  {
   "cell_type": "code",
   "execution_count": 7,
   "id": "939f6399",
   "metadata": {},
   "outputs": [],
   "source": [
    "d[\"2\"]=\"bye bye\"\n",
    "d[2]=\"see you\""
   ]
  },
  {
   "cell_type": "code",
   "execution_count": 8,
   "id": "22472ab9",
   "metadata": {},
   "outputs": [
    {
     "name": "stdout",
     "output_type": "stream",
     "text": [
      "{1: 'hello', 2: 'see you', 3: 'bye', '2': 'bye bye'}\n"
     ]
    }
   ],
   "source": [
    "print(d)"
   ]
  },
  {
   "cell_type": "code",
   "execution_count": 9,
   "id": "101a825d",
   "metadata": {},
   "outputs": [
    {
     "data": {
      "text/plain": [
       "dict_keys([1, 2, 3])"
      ]
     },
     "execution_count": 9,
     "metadata": {},
     "output_type": "execute_result"
    }
   ],
   "source": [
    "# to extract only keys\n",
    "\n",
    "d.keys()"
   ]
  },
  {
   "cell_type": "code",
   "execution_count": 11,
   "id": "c1b2a05a",
   "metadata": {},
   "outputs": [
    {
     "data": {
      "text/plain": [
       "dict_values(['hello', 'bye bye', 'bye'])"
      ]
     },
     "execution_count": 11,
     "metadata": {},
     "output_type": "execute_result"
    }
   ],
   "source": [
    "d.values()"
   ]
  },
  {
   "cell_type": "code",
   "execution_count": 12,
   "id": "5efa863b",
   "metadata": {},
   "outputs": [
    {
     "data": {
      "text/plain": [
       "dict_items([(1, 'hello'), (2, 'bye bye'), (3, 'bye')])"
      ]
     },
     "execution_count": 12,
     "metadata": {},
     "output_type": "execute_result"
    }
   ],
   "source": [
    "d.items()"
   ]
  },
  {
   "cell_type": "code",
   "execution_count": 13,
   "id": "9fdb2e7d",
   "metadata": {},
   "outputs": [
    {
     "name": "stdout",
     "output_type": "stream",
     "text": [
      "green\n"
     ]
    }
   ],
   "source": [
    "thisdict={\n",
    "    \"brand\":\"Ford\",\n",
    "    \"electric\":\"false\",\n",
    "    \"year\":2020,\n",
    "    \"color\":[\"red\",\"green\",\"blue\"]\n",
    "}\n",
    "print(thisdict[\"color\"][1])"
   ]
  },
  {
   "cell_type": "code",
   "execution_count": 14,
   "id": "6dad1760",
   "metadata": {
    "scrolled": true
   },
   "outputs": [
    {
     "name": "stdout",
     "output_type": "stream",
     "text": [
      "{'child1': {'name': 'Emil', 'year': 2004}, 'child2': {'name': 'Tobias', 'year': 2007}, 'child3': {'name': 'Linus', 'year': 2011}}\n",
      "\n",
      "\n",
      "dict_keys(['child1', 'child2', 'child3'])\n",
      "\n",
      "\n",
      "dict_values([{'name': 'Emil', 'year': 2004}, {'name': 'Tobias', 'year': 2007}, {'name': 'Linus', 'year': 2011}])\n",
      "\n",
      "\n",
      "dict_items([('child1', {'name': 'Emil', 'year': 2004}), ('child2', {'name': 'Tobias', 'year': 2007}), ('child3', {'name': 'Linus', 'year': 2011})])\n"
     ]
    }
   ],
   "source": [
    "#Create a dictionary that contain three dictionaries:\n",
    "\n",
    "myfamily = {\n",
    "  \"child1\" : {\n",
    "    \"name\" : \"Emil\",\n",
    "    \"year\" : 2004\n",
    "  },\n",
    "  \"child2\" : {\n",
    "    \"name\" : \"Tobias\",\n",
    "    \"year\" : 2007\n",
    "  },\n",
    "  \"child3\" : {\n",
    "    \"name\" : \"Linus\",\n",
    "    \"year\" : 2011\n",
    "  }\n",
    "}\n",
    "\n",
    "print(myfamily)\n",
    "print('\\n')\n",
    "print(myfamily.keys())\n",
    "print('\\n')\n",
    "print(myfamily.values())\n",
    "print('\\n')\n",
    "print(myfamily.items())\n"
   ]
  },
  {
   "cell_type": "code",
   "execution_count": 15,
   "id": "41487ffa",
   "metadata": {},
   "outputs": [
    {
     "data": {
      "text/plain": [
       "dict_keys(['child1', 'child2', 'child3'])"
      ]
     },
     "execution_count": 15,
     "metadata": {},
     "output_type": "execute_result"
    }
   ],
   "source": [
    "myfamily.keys()"
   ]
  },
  {
   "cell_type": "code",
   "execution_count": 16,
   "id": "78d7c9f9",
   "metadata": {},
   "outputs": [
    {
     "data": {
      "text/plain": [
       "dict_values([{'name': 'Emil', 'year': 2004}, {'name': 'Tobias', 'year': 2007}, {'name': 'Linus', 'year': 2011}])"
      ]
     },
     "execution_count": 16,
     "metadata": {},
     "output_type": "execute_result"
    }
   ],
   "source": [
    "myfamily.values()"
   ]
  },
  {
   "cell_type": "code",
   "execution_count": 18,
   "id": "bfa4d7ae",
   "metadata": {},
   "outputs": [
    {
     "data": {
      "text/plain": [
       "dict_keys(['name', 'year'])"
      ]
     },
     "execution_count": 18,
     "metadata": {},
     "output_type": "execute_result"
    }
   ],
   "source": [
    "myfamily[\"child1\"].keys()"
   ]
  },
  {
   "cell_type": "code",
   "execution_count": 3,
   "id": "4dd8a220",
   "metadata": {},
   "outputs": [
    {
     "name": "stdout",
     "output_type": "stream",
     "text": [
      "Enter no of students you want to insert: 2\n",
      "Enter name of 0 student: f\n",
      "Enter name of 1 student: d\n",
      "Enter grade of 0 student: 7\n",
      "Enter grade of 1 student: 5\n",
      "['f', 'd'] [7, 5]\n",
      "{'f': 7, 'd': 5}\n",
      "Highest score is 7 and scored by f\n"
     ]
    }
   ],
   "source": [
    "name=[]\n",
    "grade=[]\n",
    "n=int(input(\"Enter no of students you want to insert: \"))\n",
    "\n",
    "for i in range(n):\n",
    "    name.append(input(\"Enter name of {} student: \".format(i)))\n",
    "for i in range(n):\n",
    "    grade.append(int(input(\"Enter grade of {} student: \".format(i))))\n",
    "\n",
    "print(name,grade)\n",
    "#n_g=zip(name,grade)\n",
    "dict1=dict(zip(name,grade))\n",
    "print(dict1)\n",
    "\n",
    "\n",
    "max1=name[0]\n",
    "for i in dict1:\n",
    "    if(dict1[i]>dict1[max1]):\n",
    "        max1=i\n",
    "print(\"Highest score is\",dict1[max1],\"and scored by\",max1)"
   ]
  },
  {
   "cell_type": "code",
   "execution_count": null,
   "id": "069ef65b",
   "metadata": {},
   "outputs": [],
   "source": []
  }
 ],
 "metadata": {
  "kernelspec": {
   "display_name": "Python 3",
   "language": "python",
   "name": "python3"
  },
  "language_info": {
   "codemirror_mode": {
    "name": "ipython",
    "version": 3
   },
   "file_extension": ".py",
   "mimetype": "text/x-python",
   "name": "python",
   "nbconvert_exporter": "python",
   "pygments_lexer": "ipython3",
   "version": "3.9.5"
  }
 },
 "nbformat": 4,
 "nbformat_minor": 5
}
